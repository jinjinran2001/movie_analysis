{
 "cells": [
  {
   "cell_type": "code",
   "execution_count": 2,
   "metadata": {},
   "outputs": [],
   "source": [
    "# import packages\n",
    "import pandas as pd \n",
    "import numpy as np \n",
    "import matplotlib.pyplot as plt\n",
    "from scipy import stats"
   ]
  },
  {
   "cell_type": "code",
   "execution_count": 3,
   "metadata": {},
   "outputs": [
    {
     "name": "stdout",
     "output_type": "stream",
     "text": [
      "   The Life of David Gale (2003)  Wing Commander (1999)  \\\n",
      "0                            NaN                    NaN   \n",
      "1                            NaN                    NaN   \n",
      "2                            NaN                    NaN   \n",
      "3                            NaN                    NaN   \n",
      "4                            NaN                    NaN   \n",
      "\n",
      "   Django Unchained (2012)  Alien (1979)  \\\n",
      "0                      4.0           NaN   \n",
      "1                      1.5           NaN   \n",
      "2                      NaN           NaN   \n",
      "3                      2.0           NaN   \n",
      "4                      3.5           NaN   \n",
      "\n",
      "   Indiana Jones and the Last Crusade (1989)  Snatch (2000)  \\\n",
      "0                                        3.0            NaN   \n",
      "1                                        NaN            NaN   \n",
      "2                                        NaN            NaN   \n",
      "3                                        3.0            NaN   \n",
      "4                                        0.5            NaN   \n",
      "\n",
      "   Rambo: First Blood Part II (1985)  Fargo (1996)  \\\n",
      "0                                NaN           NaN   \n",
      "1                                NaN           NaN   \n",
      "2                                NaN           NaN   \n",
      "3                                NaN           NaN   \n",
      "4                                0.5           1.0   \n",
      "\n",
      "   Let the Right One In (2008)  Black Swan (2010)  ...  \\\n",
      "0                          NaN                NaN  ...   \n",
      "1                          NaN                NaN  ...   \n",
      "2                          NaN                NaN  ...   \n",
      "3                          NaN                4.0  ...   \n",
      "4                          NaN                0.0  ...   \n",
      "\n",
      "   When watching a movie I cheer or shout or talk or curse at the screen  \\\n",
      "0                                                1.0                       \n",
      "1                                                3.0                       \n",
      "2                                                5.0                       \n",
      "3                                                3.0                       \n",
      "4                                                2.0                       \n",
      "\n",
      "   When watching a movie I feel like the things on the screen are happening to me  \\\n",
      "0                                                6.0                                \n",
      "1                                                1.0                                \n",
      "2                                                4.0                                \n",
      "3                                                1.0                                \n",
      "4                                                3.0                                \n",
      "\n",
      "   As a movie unfolds I start to have problems keeping track of events that happened earlier  \\\n",
      "0                                                2.0                                           \n",
      "1                                                1.0                                           \n",
      "2                                                3.0                                           \n",
      "3                                                1.0                                           \n",
      "4                                                2.0                                           \n",
      "\n",
      "   The emotions on the screen \"rub off\" on me - for instance if something sad is happening I get sad or if something frightening is happening I get scared  \\\n",
      "0                                                5.0                                                                                                         \n",
      "1                                                6.0                                                                                                         \n",
      "2                                                5.0                                                                                                         \n",
      "3                                                4.0                                                                                                         \n",
      "4                                                5.0                                                                                                         \n",
      "\n",
      "   When watching a movie I get completely immersed in the alternative reality of the film  \\\n",
      "0                                                5.0                                        \n",
      "1                                                5.0                                        \n",
      "2                                                5.0                                        \n",
      "3                                                5.0                                        \n",
      "4                                                6.0                                        \n",
      "\n",
      "   Movies change my position on social economic or political issues  \\\n",
      "0                                                5.0                  \n",
      "1                                                3.0                  \n",
      "2                                                4.0                  \n",
      "3                                                3.0                  \n",
      "4                                                4.0                  \n",
      "\n",
      "   When watching movies things get so intense that I have to stop watching  \\\n",
      "0                                                1.0                         \n",
      "1                                                2.0                         \n",
      "2                                                4.0                         \n",
      "3                                                1.0                         \n",
      "4                                                4.0                         \n",
      "\n",
      "   Gender identity (1 = female; 2 = male; 3 = self-described)  \\\n",
      "0                                                1.0            \n",
      "1                                                1.0            \n",
      "2                                                1.0            \n",
      "3                                                1.0            \n",
      "4                                                1.0            \n",
      "\n",
      "   Are you an only child? (1: Yes; 0: No; -1: Did not respond)  \\\n",
      "0                                                  0             \n",
      "1                                                  0             \n",
      "2                                                  1             \n",
      "3                                                  0             \n",
      "4                                                  1             \n",
      "\n",
      "   Movies are best enjoyed alone (1: Yes; 0: No; -1: Did not respond)  \n",
      "0                                                  1                   \n",
      "1                                                  0                   \n",
      "2                                                  0                   \n",
      "3                                                  1                   \n",
      "4                                                  1                   \n",
      "\n",
      "[5 rows x 477 columns]\n"
     ]
    }
   ],
   "source": [
    "# read and check data\n",
    "data = pd.read_csv('movieReplicationSet.csv')\n",
    "print(data.head())"
   ]
  },
  {
   "cell_type": "code",
   "execution_count": 6,
   "metadata": {},
   "outputs": [],
   "source": [
    "# only get the movie ratings\n",
    "movie_ratings = data.iloc[:, :400]"
   ]
  },
  {
   "cell_type": "markdown",
   "metadata": {},
   "source": [
    "#### Q1"
   ]
  },
  {
   "cell_type": "markdown",
   "metadata": {},
   "source": [
    "Are movies that are more popular (operationalized as having more ratings) rated higher than movies that are less popular? [Hint: You can do a median-split of popularity to determinehigh vs. low popularitymovies]"
   ]
  },
  {
   "cell_type": "code",
   "execution_count": 7,
   "metadata": {},
   "outputs": [],
   "source": [
    "\n",
    "movie_stats = pd.DataFrame({\n",
    "        'n_ratings': movie_ratings.notna().sum(),  # Number of ratings (popularity)\n",
    "        'median_rating': movie_ratings.median(),       # Median rating\n",
    "})"
   ]
  },
  {
   "cell_type": "code",
   "execution_count": 9,
   "metadata": {},
   "outputs": [
    {
     "data": {
      "text/html": [
       "<div>\n",
       "<style scoped>\n",
       "    .dataframe tbody tr th:only-of-type {\n",
       "        vertical-align: middle;\n",
       "    }\n",
       "\n",
       "    .dataframe tbody tr th {\n",
       "        vertical-align: top;\n",
       "    }\n",
       "\n",
       "    .dataframe thead th {\n",
       "        text-align: right;\n",
       "    }\n",
       "</style>\n",
       "<table border=\"1\" class=\"dataframe\">\n",
       "  <thead>\n",
       "    <tr style=\"text-align: right;\">\n",
       "      <th></th>\n",
       "      <th>n_ratings</th>\n",
       "      <th>median_rating</th>\n",
       "    </tr>\n",
       "  </thead>\n",
       "  <tbody>\n",
       "    <tr>\n",
       "      <th>The Life of David Gale (2003)</th>\n",
       "      <td>76</td>\n",
       "      <td>2.5</td>\n",
       "    </tr>\n",
       "    <tr>\n",
       "      <th>Wing Commander (1999)</th>\n",
       "      <td>71</td>\n",
       "      <td>2.0</td>\n",
       "    </tr>\n",
       "    <tr>\n",
       "      <th>Django Unchained (2012)</th>\n",
       "      <td>453</td>\n",
       "      <td>3.5</td>\n",
       "    </tr>\n",
       "    <tr>\n",
       "      <th>Alien (1979)</th>\n",
       "      <td>289</td>\n",
       "      <td>3.0</td>\n",
       "    </tr>\n",
       "    <tr>\n",
       "      <th>Indiana Jones and the Last Crusade (1989)</th>\n",
       "      <td>463</td>\n",
       "      <td>3.0</td>\n",
       "    </tr>\n",
       "  </tbody>\n",
       "</table>\n",
       "</div>"
      ],
      "text/plain": [
       "                                           n_ratings  median_rating\n",
       "The Life of David Gale (2003)                     76            2.5\n",
       "Wing Commander (1999)                             71            2.0\n",
       "Django Unchained (2012)                          453            3.5\n",
       "Alien (1979)                                     289            3.0\n",
       "Indiana Jones and the Last Crusade (1989)        463            3.0"
      ]
     },
     "execution_count": 9,
     "metadata": {},
     "output_type": "execute_result"
    }
   ],
   "source": [
    "movie_stats.head()"
   ]
  },
  {
   "cell_type": "code",
   "execution_count": 11,
   "metadata": {},
   "outputs": [],
   "source": [
    "# seperate popular and unpopular movies with median\n",
    "median_ratings = movie_stats['n_ratings'].median()\n",
    "movie_stats['is_popular'] = movie_stats['n_ratings'] > median_ratings\n",
    "high_popularity = movie_stats[movie_stats['is_popular']]['median_rating']\n",
    "low_popularity = movie_stats[~movie_stats['is_popular']]['median_rating']    \n",
    "    "
   ]
  },
  {
   "cell_type": "code",
   "execution_count": 13,
   "metadata": {},
   "outputs": [
    {
     "name": "stdout",
     "output_type": "stream",
     "text": [
      "9.929258851707232e-35\n"
     ]
    }
   ],
   "source": [
    "statistic, p_value = stats.mannwhitneyu(\n",
    "    high_popularity.dropna(),\n",
    "    low_popularity.dropna(),\n",
    "    alternative='greater'  # Using one-sided test\n",
    ")\n",
    "print(p_value)"
   ]
  },
  {
   "cell_type": "markdown",
   "metadata": {},
   "source": [
    "#### Q2"
   ]
  },
  {
   "cell_type": "markdown",
   "metadata": {},
   "source": [
    "Are movies that are newer rated differently than movies that are older? [Hint: Do a median split of year of release to contrast movies in terms of whether they are old or new]"
   ]
  },
  {
   "cell_type": "code",
   "execution_count": 15,
   "metadata": {},
   "outputs": [],
   "source": [
    "q2_data = pd.DataFrame({\n",
    "        'year': movie_ratings.columns.str.extract(r'(\\d{4})')[0].astype(int),  # Extract year from column names and flatten\n",
    "        'median_rating': movie_ratings.median().values,       # Median rating\n",
    "})"
   ]
  },
  {
   "cell_type": "code",
   "execution_count": 16,
   "metadata": {},
   "outputs": [
    {
     "data": {
      "text/html": [
       "<div>\n",
       "<style scoped>\n",
       "    .dataframe tbody tr th:only-of-type {\n",
       "        vertical-align: middle;\n",
       "    }\n",
       "\n",
       "    .dataframe tbody tr th {\n",
       "        vertical-align: top;\n",
       "    }\n",
       "\n",
       "    .dataframe thead th {\n",
       "        text-align: right;\n",
       "    }\n",
       "</style>\n",
       "<table border=\"1\" class=\"dataframe\">\n",
       "  <thead>\n",
       "    <tr style=\"text-align: right;\">\n",
       "      <th></th>\n",
       "      <th>year</th>\n",
       "      <th>median_rating</th>\n",
       "    </tr>\n",
       "  </thead>\n",
       "  <tbody>\n",
       "    <tr>\n",
       "      <th>0</th>\n",
       "      <td>2003</td>\n",
       "      <td>2.5</td>\n",
       "    </tr>\n",
       "    <tr>\n",
       "      <th>1</th>\n",
       "      <td>1999</td>\n",
       "      <td>2.0</td>\n",
       "    </tr>\n",
       "    <tr>\n",
       "      <th>2</th>\n",
       "      <td>2012</td>\n",
       "      <td>3.5</td>\n",
       "    </tr>\n",
       "    <tr>\n",
       "      <th>3</th>\n",
       "      <td>1979</td>\n",
       "      <td>3.0</td>\n",
       "    </tr>\n",
       "    <tr>\n",
       "      <th>4</th>\n",
       "      <td>1989</td>\n",
       "      <td>3.0</td>\n",
       "    </tr>\n",
       "  </tbody>\n",
       "</table>\n",
       "</div>"
      ],
      "text/plain": [
       "   year  median_rating\n",
       "0  2003            2.5\n",
       "1  1999            2.0\n",
       "2  2012            3.5\n",
       "3  1979            3.0\n",
       "4  1989            3.0"
      ]
     },
     "execution_count": 16,
     "metadata": {},
     "output_type": "execute_result"
    }
   ],
   "source": [
    "q2_data.head()"
   ]
  },
  {
   "cell_type": "code",
   "execution_count": 17,
   "metadata": {},
   "outputs": [],
   "source": [
    "# sepearte old and new movies with median\n",
    "median_year = q2_data['year'].median()\n",
    "q2_data['is_old'] = q2_data['year'] > median_year\n",
    "old = q2_data[q2_data['is_old']]['median_rating']\n",
    "not_old = q2_data[~q2_data['is_old']]['median_rating']    "
   ]
  },
  {
   "cell_type": "code",
   "execution_count": 18,
   "metadata": {},
   "outputs": [
    {
     "name": "stdout",
     "output_type": "stream",
     "text": [
      "0.19865156776112602\n"
     ]
    }
   ],
   "source": [
    "statistic, p_value = stats.mannwhitneyu(\n",
    "    old.dropna(),\n",
    "    not_old.dropna(),\n",
    "    alternative='two-sided'  # Using two-sided test unless there's a specific directional hypothesis\n",
    ")\n",
    "print(p_value)"
   ]
  },
  {
   "cell_type": "markdown",
   "metadata": {},
   "source": [
    "#### Q3"
   ]
  },
  {
   "cell_type": "markdown",
   "metadata": {},
   "source": [
    "Is enjoyment of ‘Shrek(2001)’ gendered, i.e. do male and female viewers rate it differently"
   ]
  },
  {
   "cell_type": "code",
   "execution_count": 19,
   "metadata": {},
   "outputs": [],
   "source": [
    "q3_data = pd.DataFrame({\n",
    "        'rating': data['Shrek (2001)'],\n",
    "        'gender': data.iloc[:, 474]  # Gender is in column 475 (0-based indexing)\n",
    "    })"
   ]
  },
  {
   "cell_type": "code",
   "execution_count": 20,
   "metadata": {},
   "outputs": [],
   "source": [
    "# get female and male ratings\n",
    "Shrek_female = q3_data[q3_data['gender'] == 1]['rating'].dropna()\n",
    "Shrek_male = q3_data[q3_data['gender'] == 2]['rating'].dropna()"
   ]
  },
  {
   "cell_type": "code",
   "execution_count": 21,
   "metadata": {},
   "outputs": [
    {
     "name": "stdout",
     "output_type": "stream",
     "text": [
      "0.050536625925559006\n"
     ]
    }
   ],
   "source": [
    "statistic, p_value = stats.mannwhitneyu(\n",
    "    Shrek_female.dropna(),\n",
    "    Shrek_male.dropna(),\n",
    "    alternative='two-sided'  # Using two-sided test unless there's a specific directional hypothesis\n",
    ")\n",
    "print(p_value)"
   ]
  },
  {
   "cell_type": "markdown",
   "metadata": {},
   "source": [
    "#### Q4"
   ]
  },
  {
   "cell_type": "markdown",
   "metadata": {},
   "source": [
    "What proportion of movies are rated differently by male and female viewers"
   ]
  },
  {
   "cell_type": "code",
   "execution_count": 22,
   "metadata": {},
   "outputs": [],
   "source": [
    "q4_p_values = []\n",
    "for i in range(400):\n",
    "    i_th_data = pd.DataFrame({\n",
    "        'rating': data.iloc[:, i],\n",
    "        'gender': data.iloc[:, 474]\n",
    "    })\n",
    "    female = i_th_data[i_th_data['gender'] == 1]['rating'].dropna()\n",
    "    male = i_th_data[i_th_data['gender'] == 2]['rating'].dropna()\n",
    "    #other = i_th_data[i_th_data['gender'] == 3]['rating'].dropna()\n",
    "    q4_statistic, q4_p_value = stats.mannwhitneyu(female, male, alternative='two-sided')\n",
    "    q4_p_values.append(q4_p_value)"
   ]
  },
  {
   "cell_type": "code",
   "execution_count": 23,
   "metadata": {},
   "outputs": [
    {
     "data": {
      "text/plain": [
       "0.125"
      ]
     },
     "execution_count": 23,
     "metadata": {},
     "output_type": "execute_result"
    }
   ],
   "source": [
    "# see how many is significant\n",
    "sum(np.array(q4_p_values) < 0.005)/400"
   ]
  },
  {
   "cell_type": "markdown",
   "metadata": {},
   "source": [
    "#### Q5\n",
    "Do people who are only children enjoy ‘The Lion King(1994)’ more than people with siblings?"
   ]
  },
  {
   "cell_type": "code",
   "execution_count": 24,
   "metadata": {},
   "outputs": [],
   "source": [
    "q_5_data = pd.DataFrame({\n",
    "        'rating': data['The Lion King (1994)'],\n",
    "        'only_child': data.iloc[:, 475]\n",
    "    })"
   ]
  },
  {
   "cell_type": "code",
   "execution_count": 25,
   "metadata": {},
   "outputs": [
    {
     "data": {
      "text/plain": [
       "only_child\n",
       " 0    894\n",
       " 1    177\n",
       "-1     26\n",
       "Name: count, dtype: int64"
      ]
     },
     "execution_count": 25,
     "metadata": {},
     "output_type": "execute_result"
    }
   ],
   "source": [
    "# check the ratings of only child and not only child\n",
    "q_5_data['only_child'].value_counts()"
   ]
  },
  {
   "cell_type": "code",
   "execution_count": 28,
   "metadata": {},
   "outputs": [
    {
     "name": "stdout",
     "output_type": "stream",
     "text": [
      "0.978419092554931\n"
     ]
    }
   ],
   "source": [
    "only_child_rating = q_5_data[q_5_data['only_child'] == 1]['rating'].dropna()\n",
    "not_only_child_rating = q_5_data[q_5_data['only_child'] == 0]['rating'].dropna()\n",
    "statistic, p_value = stats.mannwhitneyu(\n",
    "    only_child_rating.dropna(),\n",
    "    not_only_child_rating.dropna(),\n",
    "    alternative='greater'  # Using one-sided test\n",
    ")\n",
    "print(p_value)"
   ]
  },
  {
   "cell_type": "markdown",
   "metadata": {},
   "source": [
    "#### Q6\n",
    "What proportion of movies exhibit an “only child effect”, i.e. are rated different by viewers with siblings vs. those without?"
   ]
  },
  {
   "cell_type": "code",
   "execution_count": 30,
   "metadata": {},
   "outputs": [
    {
     "name": "stdout",
     "output_type": "stream",
     "text": [
      "0.0175\n"
     ]
    }
   ],
   "source": [
    "q6_p_values = []\n",
    "for i in range(400):\n",
    "    i_th_data = pd.DataFrame({\n",
    "        'rating': data.iloc[:, i],\n",
    "        'only_child': data.iloc[:, 475]\n",
    "    })\n",
    "    only_child_rating = i_th_data[i_th_data['only_child'] == 1]['rating'].dropna()\n",
    "    not_only_child_rating = i_th_data[i_th_data['only_child'] == 0]['rating'].dropna()\n",
    "    q6_statistic, q6_p_value = stats.mannwhitneyu(\n",
    "    only_child_rating.dropna(),\n",
    "    not_only_child_rating.dropna(),\n",
    "    alternative='two-sided'  # Using two-sided test unless there's a specific directional hypothesis\n",
    ")\n",
    "    q6_p_values.append(q6_p_value)\n",
    "# check the portion of significant p values\n",
    "print(sum(np.array(q6_p_values) < 0.005)/400)"
   ]
  },
  {
   "cell_type": "markdown",
   "metadata": {},
   "source": [
    "#### Q7\n",
    "Do people who like to watch movies socially enjoy ‘The Wolf of Wall Street (2013)’ more than those who preferto watch them alone?"
   ]
  },
  {
   "cell_type": "code",
   "execution_count": 31,
   "metadata": {},
   "outputs": [],
   "source": [
    "q7_data = pd.DataFrame({\n",
    "        'rating': data['The Wolf of Wall Street (2013)'],\n",
    "        'social': data.iloc[:, 476]\n",
    "    })"
   ]
  },
  {
   "cell_type": "code",
   "execution_count": 32,
   "metadata": {},
   "outputs": [
    {
     "name": "stdout",
     "output_type": "stream",
     "text": [
      "0.05638214666114455\n"
     ]
    }
   ],
   "source": [
    "q7_alone_rating = q7_data[q7_data['social'] == 1]['rating'].dropna()\n",
    "q7_not_alone_rating = q7_data[q7_data['social'] == 0]['rating'].dropna()\n",
    "statistic, p_value = stats.mannwhitneyu(\n",
    "    q7_alone_rating.dropna(),\n",
    "    q7_not_alone_rating.dropna(),\n",
    "    alternative='greater'  # Using one-sided test\n",
    ")\n",
    "print(p_value)"
   ]
  },
  {
   "cell_type": "markdown",
   "metadata": {},
   "source": [
    "#### Q8\n",
    "What proportion of movies exhibit such a “social watching” effect"
   ]
  },
  {
   "cell_type": "code",
   "execution_count": 34,
   "metadata": {},
   "outputs": [
    {
     "name": "stdout",
     "output_type": "stream",
     "text": [
      "0.025\n"
     ]
    }
   ],
   "source": [
    "q8_p_values = []\n",
    "for i in range(400):\n",
    "    i_th_data = pd.DataFrame({\n",
    "        'rating': data.iloc[:, i],\n",
    "        'social': data.iloc[:, 476]\n",
    "    })\n",
    "    alone_rating = i_th_data[i_th_data['social'] == 1]['rating'].dropna()\n",
    "    not_alone_rating = i_th_data[i_th_data['social'] == 0]['rating'].dropna()\n",
    "    q8_statistic, q8_p_value = stats.mannwhitneyu(\n",
    "    alone_rating.dropna(),\n",
    "    not_alone_rating.dropna(),\n",
    "    alternative='two-sided'  # Using two-sided test unless there's a specific directional hypothesis\n",
    ")\n",
    "    q8_p_values.append(q8_p_value)\n",
    "# check the portion of significant p values\n",
    "print(sum(np.array(q8_p_values) < 0.005)/400)"
   ]
  },
  {
   "cell_type": "markdown",
   "metadata": {},
   "source": [
    "#### Q9\n",
    "Is the ratings distribution of ‘Home Alone (1990)’ different than that of ‘Finding Nemo (2003)"
   ]
  },
  {
   "cell_type": "code",
   "execution_count": 35,
   "metadata": {},
   "outputs": [],
   "source": [
    "home_alone_rating = data['Home Alone (1990)']\n",
    "finding_nemo_rating = data['Finding Nemo (2003)']"
   ]
  },
  {
   "cell_type": "code",
   "execution_count": 36,
   "metadata": {},
   "outputs": [
    {
     "data": {
      "text/plain": [
       "6.379397182836346e-10"
      ]
     },
     "execution_count": 36,
     "metadata": {},
     "output_type": "execute_result"
    }
   ],
   "source": [
    "# do a ks test for difference between two distribtuions in a non-parametric way\n",
    "ks_statistic, ks_p_value = stats.ks_2samp(home_alone_rating.dropna(), finding_nemo_rating.dropna())\n",
    "ks_p_value"
   ]
  },
  {
   "cell_type": "markdown",
   "metadata": {},
   "source": [
    "#### Q10\n",
    "There are ratings on moviesfrom several franchises ([‘Star Wars’, ‘Harry Potter’, ‘The Matrix’, ‘Indiana Jones’, ‘Jurassic Park’, ‘Pirates of the Caribbean’, ‘Toy Story’, ‘Batman’]) inthis dataset. How many of these are of inconsistent quality, as experienced by viewers? [Hint: You can use the keywords in quotation marks featured in this question to identify the movies that are part of each franchise"
   ]
  },
  {
   "cell_type": "code",
   "execution_count": 41,
   "metadata": {},
   "outputs": [],
   "source": [
    "# List of franchises\n",
    "franchises = ['Star Wars', 'Harry Potter', 'The Matrix', 'Indiana Jones', \n",
    "              'Jurassic Park', 'Pirates of the Caribbean', 'Toy Story', 'Batman']\n",
    "\n",
    "# Create a dictionary to store variance for each franchise\n",
    "franchise_films = {}\n",
    "\n",
    "# Loop through each franchise, calculate variance of ratings\n",
    "for franchise in franchises:\n",
    "    # Filter columns containing the franchise name\n",
    "    franchise_movies = data.filter(like=franchise)\n",
    "    franchise_films[franchise] = franchise_movies"
   ]
  },
  {
   "cell_type": "code",
   "execution_count": 43,
   "metadata": {},
   "outputs": [
    {
     "name": "stdout",
     "output_type": "stream",
     "text": [
      "Star Wars: 8.01647736660335e-48\n",
      "Harry Potter: 0.34331950837289205\n",
      "The Matrix: 3.1236517880781424e-11\n",
      "Indiana Jones: 6.27277563979608e-10\n",
      "Jurassic Park: 7.636930084362221e-11\n",
      "Pirates of the Caribbean: 3.2901287079094474e-05\n",
      "Toy Story: 5.065805156537524e-06\n",
      "Batman: 4.2252969509030006e-42\n"
     ]
    }
   ],
   "source": [
    "for franchise in franchises:\n",
    "    franchise_movies = data.filter(like=franchise)\n",
    "    \n",
    "    # Convert columns to list of arrays for Kruskal-Wallis test\n",
    "    movie_ratings = [franchise_movies[col].dropna() for col in franchise_movies.columns]\n",
    "    kw_statistic, p_value = stats.kruskal(*movie_ratings)\n",
    "    print(f'{franchise}: {p_value}')"
   ]
  },
  {
   "cell_type": "markdown",
   "metadata": {},
   "source": [
    "#### Extra"
   ]
  },
  {
   "cell_type": "markdown",
   "metadata": {},
   "source": [
    "Do people who enjoy driving fast (>=4) tend to rate The Wolf of Wall Street (2013) differently?"
   ]
  },
  {
   "cell_type": "code",
   "execution_count": 44,
   "metadata": {},
   "outputs": [
    {
     "name": "stdout",
     "output_type": "stream",
     "text": [
      "6.715186980213809e-05\n"
     ]
    }
   ],
   "source": [
    "enjoy_driving_fast = data[data['I enjoy driving fast'] >= 4]\n",
    "do_not_enjoy_driving_fast = data[data['I enjoy driving fast'] < 4]\n",
    "\n",
    "fast_rating = enjoy_driving_fast['The Wolf of Wall Street (2013)'].dropna()\n",
    "not_fast_rating = do_not_enjoy_driving_fast['The Wolf of Wall Street (2013)'].dropna()\n",
    "\n",
    "statistic, p_value = stats.mannwhitneyu(\n",
    "    fast_rating,\n",
    "    not_fast_rating,\n",
    "    alternative='two-sided'  # Using two-sided test unless there's a specific directional hypothesis\n",
    ")\n",
    "\n",
    "print(p_value)"
   ]
  }
 ],
 "metadata": {
  "kernelspec": {
   "display_name": "base",
   "language": "python",
   "name": "python3"
  },
  "language_info": {
   "codemirror_mode": {
    "name": "ipython",
    "version": 3
   },
   "file_extension": ".py",
   "mimetype": "text/x-python",
   "name": "python",
   "nbconvert_exporter": "python",
   "pygments_lexer": "ipython3",
   "version": "3.12.4"
  }
 },
 "nbformat": 4,
 "nbformat_minor": 2
}
